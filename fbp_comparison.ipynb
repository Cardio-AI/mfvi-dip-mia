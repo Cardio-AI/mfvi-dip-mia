{
 "cells": [
  {
   "cell_type": "code",
   "execution_count": 43,
   "id": "f65d2f63-fc07-4a76-ae66-2038b1b4e87e",
   "metadata": {},
   "outputs": [],
   "source": [
    "import numpy as np\n",
    "from radon import FastRadonTransform\n",
    "from bayesian_optimization import get_img_ct\n",
    "from matplotlib import pyplot as plt\n",
    "from skimage.transform import radon, iradon\n",
    "from skimage.metrics import peak_signal_noise_ratio, structural_similarity"
   ]
  },
  {
   "cell_type": "code",
   "execution_count": 49,
   "id": "89c9a960-fa86-4997-b09d-229d4f861fa5",
   "metadata": {},
   "outputs": [],
   "source": [
    "img = 4\n",
    "img_np, imsize = get_img_ct(img)"
   ]
  },
  {
   "cell_type": "code",
   "execution_count": 50,
   "id": "d158fb74-69ba-4a90-b41b-6663468c058e",
   "metadata": {},
   "outputs": [],
   "source": [
    "theta = np.linspace(0., 180., 45, endpoint=False)\n",
    "sinogram = radon(img_np[0], theta=theta)"
   ]
  },
  {
   "cell_type": "code",
   "execution_count": 51,
   "id": "11e3ee8c-4ad1-44b6-81b3-cf9aa3579af5",
   "metadata": {},
   "outputs": [],
   "source": [
    "recon = iradon(sinogram, theta=theta, filter_name='shepp-logan')"
   ]
  },
  {
   "cell_type": "code",
   "execution_count": 52,
   "id": "77548761-41f6-4980-b800-2b6478758ba1",
   "metadata": {},
   "outputs": [
    {
     "data": {
      "text/plain": [
       "25.29480308210244"
      ]
     },
     "execution_count": 52,
     "metadata": {},
     "output_type": "execute_result"
    }
   ],
   "source": [
    "peak_signal_noise_ratio(img_np[0], recon)"
   ]
  },
  {
   "cell_type": "code",
   "execution_count": 53,
   "id": "2388252e-90a3-4828-b236-1509f0d71cc2",
   "metadata": {},
   "outputs": [
    {
     "data": {
      "text/plain": [
       "0.7338799725977837"
      ]
     },
     "execution_count": 53,
     "metadata": {},
     "output_type": "execute_result"
    }
   ],
   "source": [
    "structural_similarity(img_np[0], recon)"
   ]
  },
  {
   "cell_type": "code",
   "execution_count": null,
   "id": "bc20e319-8f0c-4838-8077-0e3ca1af58eb",
   "metadata": {},
   "outputs": [],
   "source": []
  }
 ],
 "metadata": {
  "kernelspec": {
   "display_name": "Python 3 (ipykernel)",
   "language": "python",
   "name": "python3"
  },
  "language_info": {
   "codemirror_mode": {
    "name": "ipython",
    "version": 3
   },
   "file_extension": ".py",
   "mimetype": "text/x-python",
   "name": "python",
   "nbconvert_exporter": "python",
   "pygments_lexer": "ipython3",
   "version": "3.8.10"
  }
 },
 "nbformat": 4,
 "nbformat_minor": 5
}
