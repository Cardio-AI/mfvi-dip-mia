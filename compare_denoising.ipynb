{
 "cells": [
  {
   "cell_type": "code",
   "execution_count": 3,
   "id": "4535b5ee-a8a3-4cae-8dd1-45d2cfc231ff",
   "metadata": {},
   "outputs": [],
   "source": [
    "import numpy as np\n",
    "from matplotlib import pyplot as plt\n",
    "from skimage.restoration import (denoise_tv_chambolle, denoise_bilateral,\n",
    "                                 denoise_wavelet, estimate_sigma)\n",
    "from skimage.metrics import peak_signal_noise_ratio, structural_similarity\n",
    "from bayesian_optimization import get_img_superresolution"
   ]
  },
  {
   "cell_type": "code",
   "execution_count": 7,
   "id": "d8293490-885b-4fc0-86c5-5ba59c182e6a",
   "metadata": {},
   "outputs": [
    {
     "data": {
      "text/plain": [
       "<matplotlib.image.AxesImage at 0x7f7ed20c3f10>"
      ]
     },
     "execution_count": 7,
     "metadata": {},
     "output_type": "execute_result"
    }
   ],
   "source": [
    "img = 1\n",
    "img_hr, _ = get_img_superresolution(img)\n",
    "img_hr = img_hr[0]\n",
    "img_lr = img_hr[::4, ::4]\n",
    "plt.imshow(img_lr)"
   ]
  },
  {
   "cell_type": "code",
   "execution_count": 8,
   "id": "f6d73272-fc71-4ec0-a63d-e4c6ee7efc89",
   "metadata": {},
   "outputs": [
    {
     "data": {
      "text/plain": [
       "<matplotlib.image.AxesImage at 0x7f7e1d0f0850>"
      ]
     },
     "execution_count": 8,
     "metadata": {},
     "output_type": "execute_result"
    }
   ],
   "source": [
    "img_interp = rescale(img_lr, 4)\n",
    "plt.imshow(img_interp)"
   ]
  },
  {
   "cell_type": "code",
   "execution_count": 9,
   "id": "7ba441ee-ae98-48ee-87ba-8524d9123d0e",
   "metadata": {},
   "outputs": [
    {
     "name": "stdout",
     "output_type": "stream",
     "text": [
      "23.187009196282983\n",
      "0.7878280950690937\n"
     ]
    }
   ],
   "source": [
    "print(peak_signal_noise_ratio(img_interp, img_hr))\n",
    "print(structural_similarity(img_interp, img_hr))"
   ]
  },
  {
   "cell_type": "code",
   "execution_count": null,
   "id": "1565b1db-689b-4e89-ac22-b8fdecc325c0",
   "metadata": {},
   "outputs": [],
   "source": []
  }
 ],
 "metadata": {
  "kernelspec": {
   "display_name": "Python 3 (ipykernel)",
   "language": "python",
   "name": "python3"
  },
  "language_info": {
   "codemirror_mode": {
    "name": "ipython",
    "version": 3
   },
   "file_extension": ".py",
   "mimetype": "text/x-python",
   "name": "python",
   "nbconvert_exporter": "python",
   "pygments_lexer": "ipython3",
   "version": "3.8.10"
  }
 },
 "nbformat": 4,
 "nbformat_minor": 5
}
